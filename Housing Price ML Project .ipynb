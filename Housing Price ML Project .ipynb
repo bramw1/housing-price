{
 "cells": [
  {
   "cell_type": "code",
   "execution_count": 126,
   "metadata": {},
   "outputs": [],
   "source": [
    "import pandas as pd\n",
    "import numpy as np\n",
    "import matplotlib.pyplot as plt\n",
    "import seaborn as sns\n",
    "import sklearn.model_selection as ms\n",
    "from sklearn.model_selection import train_test_split, StratifiedKFold\n",
    "from sklearn.preprocessing import LabelEncoder, MinMaxScaler"
   ]
  },
  {
   "cell_type": "code",
   "execution_count": 2,
   "metadata": {
    "scrolled": true
   },
   "outputs": [
    {
     "data": {
      "text/plain": [
       "((1460, 80), (1459, 79))"
      ]
     },
     "execution_count": 2,
     "metadata": {},
     "output_type": "execute_result"
    }
   ],
   "source": [
    "train = pd.read_csv(r'~/Desktop/housing/train.csv', index_col=0)\n",
    "test = pd.read_csv(r'~/Desktop/housing/test.csv', index_col=0)\n",
    "train.shape, test.shape\n"
   ]
  },
  {
   "cell_type": "code",
   "execution_count": 3,
   "metadata": {},
   "outputs": [
    {
     "data": {
      "text/plain": [
       "(Index(['MSSubClass', 'MSZoning', 'LotFrontage', 'LotArea', 'Street', 'Alley',\n",
       "        'LotShape', 'LandContour', 'Utilities', 'LotConfig', 'LandSlope',\n",
       "        'Neighborhood', 'Condition1', 'Condition2', 'BldgType', 'HouseStyle',\n",
       "        'OverallQual', 'OverallCond', 'YearBuilt', 'YearRemodAdd', 'RoofStyle',\n",
       "        'RoofMatl', 'Exterior1st', 'Exterior2nd', 'MasVnrType', 'MasVnrArea',\n",
       "        'ExterQual', 'ExterCond', 'Foundation', 'BsmtQual', 'BsmtCond',\n",
       "        'BsmtExposure', 'BsmtFinType1', 'BsmtFinSF1', 'BsmtFinType2',\n",
       "        'BsmtFinSF2', 'BsmtUnfSF', 'TotalBsmtSF', 'Heating', 'HeatingQC',\n",
       "        'CentralAir', 'Electrical', '1stFlrSF', '2ndFlrSF', 'LowQualFinSF',\n",
       "        'GrLivArea', 'BsmtFullBath', 'BsmtHalfBath', 'FullBath', 'HalfBath',\n",
       "        'BedroomAbvGr', 'KitchenAbvGr', 'KitchenQual', 'TotRmsAbvGrd',\n",
       "        'Functional', 'Fireplaces', 'FireplaceQu', 'GarageType', 'GarageYrBlt',\n",
       "        'GarageFinish', 'GarageCars', 'GarageArea', 'GarageQual', 'GarageCond',\n",
       "        'PavedDrive', 'WoodDeckSF', 'OpenPorchSF', 'EnclosedPorch', '3SsnPorch',\n",
       "        'ScreenPorch', 'PoolArea', 'PoolQC', 'Fence', 'MiscFeature', 'MiscVal',\n",
       "        'MoSold', 'YrSold', 'SaleType', 'SaleCondition', 'SalePrice'],\n",
       "       dtype='object'),\n",
       " Index(['MSSubClass', 'MSZoning', 'LotFrontage', 'LotArea', 'Street', 'Alley',\n",
       "        'LotShape', 'LandContour', 'Utilities', 'LotConfig', 'LandSlope',\n",
       "        'Neighborhood', 'Condition1', 'Condition2', 'BldgType', 'HouseStyle',\n",
       "        'OverallQual', 'OverallCond', 'YearBuilt', 'YearRemodAdd', 'RoofStyle',\n",
       "        'RoofMatl', 'Exterior1st', 'Exterior2nd', 'MasVnrType', 'MasVnrArea',\n",
       "        'ExterQual', 'ExterCond', 'Foundation', 'BsmtQual', 'BsmtCond',\n",
       "        'BsmtExposure', 'BsmtFinType1', 'BsmtFinSF1', 'BsmtFinType2',\n",
       "        'BsmtFinSF2', 'BsmtUnfSF', 'TotalBsmtSF', 'Heating', 'HeatingQC',\n",
       "        'CentralAir', 'Electrical', '1stFlrSF', '2ndFlrSF', 'LowQualFinSF',\n",
       "        'GrLivArea', 'BsmtFullBath', 'BsmtHalfBath', 'FullBath', 'HalfBath',\n",
       "        'BedroomAbvGr', 'KitchenAbvGr', 'KitchenQual', 'TotRmsAbvGrd',\n",
       "        'Functional', 'Fireplaces', 'FireplaceQu', 'GarageType', 'GarageYrBlt',\n",
       "        'GarageFinish', 'GarageCars', 'GarageArea', 'GarageQual', 'GarageCond',\n",
       "        'PavedDrive', 'WoodDeckSF', 'OpenPorchSF', 'EnclosedPorch', '3SsnPorch',\n",
       "        'ScreenPorch', 'PoolArea', 'PoolQC', 'Fence', 'MiscFeature', 'MiscVal',\n",
       "        'MoSold', 'YrSold', 'SaleType', 'SaleCondition'],\n",
       "       dtype='object'))"
      ]
     },
     "execution_count": 3,
     "metadata": {},
     "output_type": "execute_result"
    }
   ],
   "source": [
    "train.columns, test.columns"
   ]
  },
  {
   "cell_type": "code",
   "execution_count": 4,
   "metadata": {},
   "outputs": [
    {
     "data": {
      "text/html": [
       "<div>\n",
       "<style scoped>\n",
       "    .dataframe tbody tr th:only-of-type {\n",
       "        vertical-align: middle;\n",
       "    }\n",
       "\n",
       "    .dataframe tbody tr th {\n",
       "        vertical-align: top;\n",
       "    }\n",
       "\n",
       "    .dataframe thead th {\n",
       "        text-align: right;\n",
       "    }\n",
       "</style>\n",
       "<table border=\"1\" class=\"dataframe\">\n",
       "  <thead>\n",
       "    <tr style=\"text-align: right;\">\n",
       "      <th></th>\n",
       "      <th>MSSubClass</th>\n",
       "      <th>MSZoning</th>\n",
       "      <th>LotFrontage</th>\n",
       "      <th>LotArea</th>\n",
       "      <th>Street</th>\n",
       "      <th>Alley</th>\n",
       "      <th>LotShape</th>\n",
       "      <th>LandContour</th>\n",
       "      <th>Utilities</th>\n",
       "      <th>LotConfig</th>\n",
       "      <th>...</th>\n",
       "      <th>PoolArea</th>\n",
       "      <th>PoolQC</th>\n",
       "      <th>Fence</th>\n",
       "      <th>MiscFeature</th>\n",
       "      <th>MiscVal</th>\n",
       "      <th>MoSold</th>\n",
       "      <th>YrSold</th>\n",
       "      <th>SaleType</th>\n",
       "      <th>SaleCondition</th>\n",
       "      <th>SalePrice</th>\n",
       "    </tr>\n",
       "    <tr>\n",
       "      <th>Id</th>\n",
       "      <th></th>\n",
       "      <th></th>\n",
       "      <th></th>\n",
       "      <th></th>\n",
       "      <th></th>\n",
       "      <th></th>\n",
       "      <th></th>\n",
       "      <th></th>\n",
       "      <th></th>\n",
       "      <th></th>\n",
       "      <th></th>\n",
       "      <th></th>\n",
       "      <th></th>\n",
       "      <th></th>\n",
       "      <th></th>\n",
       "      <th></th>\n",
       "      <th></th>\n",
       "      <th></th>\n",
       "      <th></th>\n",
       "      <th></th>\n",
       "      <th></th>\n",
       "    </tr>\n",
       "  </thead>\n",
       "  <tbody>\n",
       "    <tr>\n",
       "      <th>1</th>\n",
       "      <td>60</td>\n",
       "      <td>RL</td>\n",
       "      <td>65.0</td>\n",
       "      <td>8450</td>\n",
       "      <td>Pave</td>\n",
       "      <td>NaN</td>\n",
       "      <td>Reg</td>\n",
       "      <td>Lvl</td>\n",
       "      <td>AllPub</td>\n",
       "      <td>Inside</td>\n",
       "      <td>...</td>\n",
       "      <td>0</td>\n",
       "      <td>NaN</td>\n",
       "      <td>NaN</td>\n",
       "      <td>NaN</td>\n",
       "      <td>0</td>\n",
       "      <td>2</td>\n",
       "      <td>2008</td>\n",
       "      <td>WD</td>\n",
       "      <td>Normal</td>\n",
       "      <td>208500</td>\n",
       "    </tr>\n",
       "    <tr>\n",
       "      <th>2</th>\n",
       "      <td>20</td>\n",
       "      <td>RL</td>\n",
       "      <td>80.0</td>\n",
       "      <td>9600</td>\n",
       "      <td>Pave</td>\n",
       "      <td>NaN</td>\n",
       "      <td>Reg</td>\n",
       "      <td>Lvl</td>\n",
       "      <td>AllPub</td>\n",
       "      <td>FR2</td>\n",
       "      <td>...</td>\n",
       "      <td>0</td>\n",
       "      <td>NaN</td>\n",
       "      <td>NaN</td>\n",
       "      <td>NaN</td>\n",
       "      <td>0</td>\n",
       "      <td>5</td>\n",
       "      <td>2007</td>\n",
       "      <td>WD</td>\n",
       "      <td>Normal</td>\n",
       "      <td>181500</td>\n",
       "    </tr>\n",
       "    <tr>\n",
       "      <th>3</th>\n",
       "      <td>60</td>\n",
       "      <td>RL</td>\n",
       "      <td>68.0</td>\n",
       "      <td>11250</td>\n",
       "      <td>Pave</td>\n",
       "      <td>NaN</td>\n",
       "      <td>IR1</td>\n",
       "      <td>Lvl</td>\n",
       "      <td>AllPub</td>\n",
       "      <td>Inside</td>\n",
       "      <td>...</td>\n",
       "      <td>0</td>\n",
       "      <td>NaN</td>\n",
       "      <td>NaN</td>\n",
       "      <td>NaN</td>\n",
       "      <td>0</td>\n",
       "      <td>9</td>\n",
       "      <td>2008</td>\n",
       "      <td>WD</td>\n",
       "      <td>Normal</td>\n",
       "      <td>223500</td>\n",
       "    </tr>\n",
       "    <tr>\n",
       "      <th>4</th>\n",
       "      <td>70</td>\n",
       "      <td>RL</td>\n",
       "      <td>60.0</td>\n",
       "      <td>9550</td>\n",
       "      <td>Pave</td>\n",
       "      <td>NaN</td>\n",
       "      <td>IR1</td>\n",
       "      <td>Lvl</td>\n",
       "      <td>AllPub</td>\n",
       "      <td>Corner</td>\n",
       "      <td>...</td>\n",
       "      <td>0</td>\n",
       "      <td>NaN</td>\n",
       "      <td>NaN</td>\n",
       "      <td>NaN</td>\n",
       "      <td>0</td>\n",
       "      <td>2</td>\n",
       "      <td>2006</td>\n",
       "      <td>WD</td>\n",
       "      <td>Abnorml</td>\n",
       "      <td>140000</td>\n",
       "    </tr>\n",
       "    <tr>\n",
       "      <th>5</th>\n",
       "      <td>60</td>\n",
       "      <td>RL</td>\n",
       "      <td>84.0</td>\n",
       "      <td>14260</td>\n",
       "      <td>Pave</td>\n",
       "      <td>NaN</td>\n",
       "      <td>IR1</td>\n",
       "      <td>Lvl</td>\n",
       "      <td>AllPub</td>\n",
       "      <td>FR2</td>\n",
       "      <td>...</td>\n",
       "      <td>0</td>\n",
       "      <td>NaN</td>\n",
       "      <td>NaN</td>\n",
       "      <td>NaN</td>\n",
       "      <td>0</td>\n",
       "      <td>12</td>\n",
       "      <td>2008</td>\n",
       "      <td>WD</td>\n",
       "      <td>Normal</td>\n",
       "      <td>250000</td>\n",
       "    </tr>\n",
       "    <tr>\n",
       "      <th>6</th>\n",
       "      <td>50</td>\n",
       "      <td>RL</td>\n",
       "      <td>85.0</td>\n",
       "      <td>14115</td>\n",
       "      <td>Pave</td>\n",
       "      <td>NaN</td>\n",
       "      <td>IR1</td>\n",
       "      <td>Lvl</td>\n",
       "      <td>AllPub</td>\n",
       "      <td>Inside</td>\n",
       "      <td>...</td>\n",
       "      <td>0</td>\n",
       "      <td>NaN</td>\n",
       "      <td>MnPrv</td>\n",
       "      <td>Shed</td>\n",
       "      <td>700</td>\n",
       "      <td>10</td>\n",
       "      <td>2009</td>\n",
       "      <td>WD</td>\n",
       "      <td>Normal</td>\n",
       "      <td>143000</td>\n",
       "    </tr>\n",
       "    <tr>\n",
       "      <th>7</th>\n",
       "      <td>20</td>\n",
       "      <td>RL</td>\n",
       "      <td>75.0</td>\n",
       "      <td>10084</td>\n",
       "      <td>Pave</td>\n",
       "      <td>NaN</td>\n",
       "      <td>Reg</td>\n",
       "      <td>Lvl</td>\n",
       "      <td>AllPub</td>\n",
       "      <td>Inside</td>\n",
       "      <td>...</td>\n",
       "      <td>0</td>\n",
       "      <td>NaN</td>\n",
       "      <td>NaN</td>\n",
       "      <td>NaN</td>\n",
       "      <td>0</td>\n",
       "      <td>8</td>\n",
       "      <td>2007</td>\n",
       "      <td>WD</td>\n",
       "      <td>Normal</td>\n",
       "      <td>307000</td>\n",
       "    </tr>\n",
       "    <tr>\n",
       "      <th>8</th>\n",
       "      <td>60</td>\n",
       "      <td>RL</td>\n",
       "      <td>NaN</td>\n",
       "      <td>10382</td>\n",
       "      <td>Pave</td>\n",
       "      <td>NaN</td>\n",
       "      <td>IR1</td>\n",
       "      <td>Lvl</td>\n",
       "      <td>AllPub</td>\n",
       "      <td>Corner</td>\n",
       "      <td>...</td>\n",
       "      <td>0</td>\n",
       "      <td>NaN</td>\n",
       "      <td>NaN</td>\n",
       "      <td>Shed</td>\n",
       "      <td>350</td>\n",
       "      <td>11</td>\n",
       "      <td>2009</td>\n",
       "      <td>WD</td>\n",
       "      <td>Normal</td>\n",
       "      <td>200000</td>\n",
       "    </tr>\n",
       "    <tr>\n",
       "      <th>9</th>\n",
       "      <td>50</td>\n",
       "      <td>RM</td>\n",
       "      <td>51.0</td>\n",
       "      <td>6120</td>\n",
       "      <td>Pave</td>\n",
       "      <td>NaN</td>\n",
       "      <td>Reg</td>\n",
       "      <td>Lvl</td>\n",
       "      <td>AllPub</td>\n",
       "      <td>Inside</td>\n",
       "      <td>...</td>\n",
       "      <td>0</td>\n",
       "      <td>NaN</td>\n",
       "      <td>NaN</td>\n",
       "      <td>NaN</td>\n",
       "      <td>0</td>\n",
       "      <td>4</td>\n",
       "      <td>2008</td>\n",
       "      <td>WD</td>\n",
       "      <td>Abnorml</td>\n",
       "      <td>129900</td>\n",
       "    </tr>\n",
       "    <tr>\n",
       "      <th>10</th>\n",
       "      <td>190</td>\n",
       "      <td>RL</td>\n",
       "      <td>50.0</td>\n",
       "      <td>7420</td>\n",
       "      <td>Pave</td>\n",
       "      <td>NaN</td>\n",
       "      <td>Reg</td>\n",
       "      <td>Lvl</td>\n",
       "      <td>AllPub</td>\n",
       "      <td>Corner</td>\n",
       "      <td>...</td>\n",
       "      <td>0</td>\n",
       "      <td>NaN</td>\n",
       "      <td>NaN</td>\n",
       "      <td>NaN</td>\n",
       "      <td>0</td>\n",
       "      <td>1</td>\n",
       "      <td>2008</td>\n",
       "      <td>WD</td>\n",
       "      <td>Normal</td>\n",
       "      <td>118000</td>\n",
       "    </tr>\n",
       "  </tbody>\n",
       "</table>\n",
       "<p>10 rows × 80 columns</p>\n",
       "</div>"
      ],
      "text/plain": [
       "    MSSubClass MSZoning  LotFrontage  LotArea Street Alley LotShape  \\\n",
       "Id                                                                    \n",
       "1           60       RL         65.0     8450   Pave   NaN      Reg   \n",
       "2           20       RL         80.0     9600   Pave   NaN      Reg   \n",
       "3           60       RL         68.0    11250   Pave   NaN      IR1   \n",
       "4           70       RL         60.0     9550   Pave   NaN      IR1   \n",
       "5           60       RL         84.0    14260   Pave   NaN      IR1   \n",
       "6           50       RL         85.0    14115   Pave   NaN      IR1   \n",
       "7           20       RL         75.0    10084   Pave   NaN      Reg   \n",
       "8           60       RL          NaN    10382   Pave   NaN      IR1   \n",
       "9           50       RM         51.0     6120   Pave   NaN      Reg   \n",
       "10         190       RL         50.0     7420   Pave   NaN      Reg   \n",
       "\n",
       "   LandContour Utilities LotConfig  ... PoolArea PoolQC  Fence MiscFeature  \\\n",
       "Id                                  ...                                      \n",
       "1          Lvl    AllPub    Inside  ...        0    NaN    NaN         NaN   \n",
       "2          Lvl    AllPub       FR2  ...        0    NaN    NaN         NaN   \n",
       "3          Lvl    AllPub    Inside  ...        0    NaN    NaN         NaN   \n",
       "4          Lvl    AllPub    Corner  ...        0    NaN    NaN         NaN   \n",
       "5          Lvl    AllPub       FR2  ...        0    NaN    NaN         NaN   \n",
       "6          Lvl    AllPub    Inside  ...        0    NaN  MnPrv        Shed   \n",
       "7          Lvl    AllPub    Inside  ...        0    NaN    NaN         NaN   \n",
       "8          Lvl    AllPub    Corner  ...        0    NaN    NaN        Shed   \n",
       "9          Lvl    AllPub    Inside  ...        0    NaN    NaN         NaN   \n",
       "10         Lvl    AllPub    Corner  ...        0    NaN    NaN         NaN   \n",
       "\n",
       "   MiscVal MoSold  YrSold  SaleType  SaleCondition  SalePrice  \n",
       "Id                                                             \n",
       "1        0      2    2008        WD         Normal     208500  \n",
       "2        0      5    2007        WD         Normal     181500  \n",
       "3        0      9    2008        WD         Normal     223500  \n",
       "4        0      2    2006        WD        Abnorml     140000  \n",
       "5        0     12    2008        WD         Normal     250000  \n",
       "6      700     10    2009        WD         Normal     143000  \n",
       "7        0      8    2007        WD         Normal     307000  \n",
       "8      350     11    2009        WD         Normal     200000  \n",
       "9        0      4    2008        WD        Abnorml     129900  \n",
       "10       0      1    2008        WD         Normal     118000  \n",
       "\n",
       "[10 rows x 80 columns]"
      ]
     },
     "execution_count": 4,
     "metadata": {},
     "output_type": "execute_result"
    }
   ],
   "source": [
    "train.head(10)"
   ]
  },
  {
   "cell_type": "code",
   "execution_count": 5,
   "metadata": {},
   "outputs": [
    {
     "data": {
      "text/plain": [
       "array([[<matplotlib.axes._subplots.AxesSubplot object at 0x1a1b6c3b90>,\n",
       "        <matplotlib.axes._subplots.AxesSubplot object at 0x1a1d38aa50>,\n",
       "        <matplotlib.axes._subplots.AxesSubplot object at 0x1a1d3ccdd0>,\n",
       "        <matplotlib.axes._subplots.AxesSubplot object at 0x1a1d403a90>,\n",
       "        <matplotlib.axes._subplots.AxesSubplot object at 0x1a1d442e10>,\n",
       "        <matplotlib.axes._subplots.AxesSubplot object at 0x1a1d477ad0>],\n",
       "       [<matplotlib.axes._subplots.AxesSubplot object at 0x1a1d4b4f50>,\n",
       "        <matplotlib.axes._subplots.AxesSubplot object at 0x1a1d4eab10>,\n",
       "        <matplotlib.axes._subplots.AxesSubplot object at 0x1a1d4f5690>,\n",
       "        <matplotlib.axes._subplots.AxesSubplot object at 0x1a1d536090>,\n",
       "        <matplotlib.axes._subplots.AxesSubplot object at 0x1a1d59fed0>,\n",
       "        <matplotlib.axes._subplots.AxesSubplot object at 0x1a1d5d6b90>],\n",
       "       [<matplotlib.axes._subplots.AxesSubplot object at 0x1a1d612f10>,\n",
       "        <matplotlib.axes._subplots.AxesSubplot object at 0x1a1d648bd0>,\n",
       "        <matplotlib.axes._subplots.AxesSubplot object at 0x1a1d686f50>,\n",
       "        <matplotlib.axes._subplots.AxesSubplot object at 0x1a1d6bac10>,\n",
       "        <matplotlib.axes._subplots.AxesSubplot object at 0x1a1d6faf90>,\n",
       "        <matplotlib.axes._subplots.AxesSubplot object at 0x1a1d730c50>],\n",
       "       [<matplotlib.axes._subplots.AxesSubplot object at 0x1a1d772fd0>,\n",
       "        <matplotlib.axes._subplots.AxesSubplot object at 0x1a1d7a4c90>,\n",
       "        <matplotlib.axes._subplots.AxesSubplot object at 0x1a1d7e44d0>,\n",
       "        <matplotlib.axes._subplots.AxesSubplot object at 0x1a1d819cd0>,\n",
       "        <matplotlib.axes._subplots.AxesSubplot object at 0x1a1d859510>,\n",
       "        <matplotlib.axes._subplots.AxesSubplot object at 0x1a1d88dd10>],\n",
       "       [<matplotlib.axes._subplots.AxesSubplot object at 0x1a1d8cc550>,\n",
       "        <matplotlib.axes._subplots.AxesSubplot object at 0x1a1d8ffd50>,\n",
       "        <matplotlib.axes._subplots.AxesSubplot object at 0x1a1d940590>,\n",
       "        <matplotlib.axes._subplots.AxesSubplot object at 0x1a1d974d90>,\n",
       "        <matplotlib.axes._subplots.AxesSubplot object at 0x1a1d9b65d0>,\n",
       "        <matplotlib.axes._subplots.AxesSubplot object at 0x1a1d9eadd0>],\n",
       "       [<matplotlib.axes._subplots.AxesSubplot object at 0x1a1da29610>,\n",
       "        <matplotlib.axes._subplots.AxesSubplot object at 0x1a1da5fe10>,\n",
       "        <matplotlib.axes._subplots.AxesSubplot object at 0x1a1da9d650>,\n",
       "        <matplotlib.axes._subplots.AxesSubplot object at 0x1a1dad0e50>,\n",
       "        <matplotlib.axes._subplots.AxesSubplot object at 0x1a1db14690>,\n",
       "        <matplotlib.axes._subplots.AxesSubplot object at 0x1a1db48e90>],\n",
       "       [<matplotlib.axes._subplots.AxesSubplot object at 0x1a1db876d0>,\n",
       "        <matplotlib.axes._subplots.AxesSubplot object at 0x1a1dbbced0>,\n",
       "        <matplotlib.axes._subplots.AxesSubplot object at 0x1a1dbfd710>,\n",
       "        <matplotlib.axes._subplots.AxesSubplot object at 0x1a1dc2df10>,\n",
       "        <matplotlib.axes._subplots.AxesSubplot object at 0x1a1dc70750>,\n",
       "        <matplotlib.axes._subplots.AxesSubplot object at 0x1a1dca4f50>]],\n",
       "      dtype=object)"
      ]
     },
     "execution_count": 5,
     "metadata": {},
     "output_type": "execute_result"
    },
    {
     "data": {
      "image/png": "[encoded data removed]",
      "text/plain": [
       "<Figure size 1440x1440 with 42 Axes>"
      ]
     },
     "metadata": {
      "needs_background": "light"
     },
     "output_type": "display_data"
    }
   ],
   "source": [
    "train.hist(bins=50, figsize=(20,20))"
   ]
  },
  {
   "cell_type": "code",
   "execution_count": 8,
   "metadata": {},
   "outputs": [
    {
     "data": {
      "text/plain": [
       "count      1460.000000\n",
       "mean     180921.195890\n",
       "std       79442.502883\n",
       "min       34900.000000\n",
       "25%      129975.000000\n",
       "50%      163000.000000\n",
       "75%      214000.000000\n",
       "max      755000.000000\n",
       "Name: SalePrice, dtype: float64"
      ]
     },
     "execution_count": 8,
     "metadata": {},
     "output_type": "execute_result"
    }
   ],
   "source": [
    "y.describe()"
   ]
  },
  {
   "cell_type": "code",
   "execution_count": 9,
   "metadata": {},
   "outputs": [
    {
     "name": "stdout",
     "output_type": "stream",
     "text": [
      "The columns with missingness are Index(['LotFrontage', 'Alley', 'MasVnrType', 'MasVnrArea', 'BsmtQual',\n",
      "       'BsmtCond', 'BsmtExposure', 'BsmtFinType1', 'BsmtFinType2',\n",
      "       'Electrical', 'FireplaceQu', 'GarageType', 'GarageYrBlt',\n",
      "       'GarageFinish', 'GarageQual', 'GarageCond', 'PoolQC', 'Fence',\n",
      "       'MiscFeature'],\n",
      "      dtype='object')\n"
     ]
    }
   ],
   "source": [
    "missingRows = pd.isnull(train).sum(axis=1) > 0\n",
    "missingCols = pd.isnull(train).sum(axis=0) > 0\n",
    "print('The columns with missingness are %s' %(train.columns[missingCols]))"
   ]
  },
  {
   "cell_type": "code",
   "execution_count": 10,
   "metadata": {},
   "outputs": [
    {
     "name": "stdout",
     "output_type": "stream",
     "text": [
      "LotFrontage is missing 259 values\n",
      "Alley is missing 1369 values\n",
      "MasVnrType is missing 8 values\n",
      "MasVnrArea is missing 8 values\n",
      "BsmtQual is missing 37 values\n",
      "BsmtCond is missing 37 values\n",
      "BsmtExposure is missing 38 values\n",
      "BsmtFinType1 is missing 37 values\n",
      "BsmtFinType2 is missing 38 values\n",
      "Electrical is missing 1 values\n",
      "FireplaceQu is missing 690 values\n",
      "GarageType is missing 81 values\n",
      "GarageYrBlt is missing 81 values\n",
      "GarageFinish is missing 81 values\n",
      "GarageQual is missing 81 values\n",
      "GarageCond is missing 81 values\n",
      "PoolQC is missing 1453 values\n",
      "Fence is missing 1179 values\n",
      "MiscFeature is missing 1406 values\n"
     ]
    }
   ],
   "source": [
    "missing = ['LotFrontage', 'Alley', 'MasVnrType', 'MasVnrArea', 'BsmtQual',\n",
    "       'BsmtCond', 'BsmtExposure', 'BsmtFinType1', 'BsmtFinType2',\n",
    "       'Electrical', 'FireplaceQu', 'GarageType', 'GarageYrBlt',\n",
    "       'GarageFinish', 'GarageQual', 'GarageCond', 'PoolQC', 'Fence',\n",
    "       'MiscFeature']\n",
    "\n",
    "for feature in missing:\n",
    "    print('{} is missing {} values'.format(feature, train[feature].isna().sum()))"
   ]
  },
  {
   "cell_type": "code",
   "execution_count": 11,
   "metadata": {},
   "outputs": [
    {
     "data": {
      "text/plain": [
       "50     367\n",
       "75     366\n",
       "25     365\n",
       "100    362\n",
       "Name: SalePrice, dtype: int64"
      ]
     },
     "execution_count": 11,
     "metadata": {},
     "output_type": "execute_result"
    }
   ],
   "source": [
    "train.SalePrice = pd.qcut(train.SalePrice, [0, 0.25, 0.5, 0.75, 1.], labels = [25, 50, 75, 100]).astype('O')\n",
    "train.SalePrice.value_counts()"
   ]
  },
  {
   "cell_type": "code",
   "execution_count": 12,
   "metadata": {},
   "outputs": [],
   "source": [
    "train['LotFrontage'] = train['LotFrontage'].fillna(float(-999))\n",
    "train['Alley'] = train['Alley'].fillna(\"No Alley Access\")\n",
    "train['MasVnrType'] = train['MasVnrType'].fillna(\"Missing\")\n",
    "train['MasVnrArea'] = train['MasVnrArea'].fillna(float(-999))\n",
    "train['BsmtQual'] = train['BsmtQual'].fillna('No Basement')\n",
    "train['BsmtCond'] = train['BsmtCond'].fillna('No Basement')\n",
    "train['BsmtExposure'] = train['BsmtExposure'].fillna('No Basement')\n",
    "train['BsmtFinType1'] = train['BsmtFinType1'].fillna('No Basement')\n",
    "train['BsmtFinType2'] = train['BsmtFinType2'].fillna('No Basement')\n",
    "train['FireplaceQu'] = train['FireplaceQu'].fillna('No Fireplace')\n",
    "train['GarageType'] = train['GarageType'].fillna('No Garage')\n",
    "train['GarageYrBlt'] = train['GarageYrBlt'].fillna(float(-999))\n",
    "train['GarageFinish'] = train['GarageFinish'].fillna('No Garage')\n",
    "train['GarageQual'] = train['GarageQual'].fillna('No Garage')\n",
    "train['GarageCond'] = train['GarageCond'].fillna('No Garage')\n",
    "train['PoolQC'] = train['PoolQC'].fillna('No Pool')\n",
    "train['Fence'] = train['Fence'].fillna('No Fence')\n",
    "train['MiscFeature'] = train['MiscFeature'].fillna('NoMisc')\n",
    "train['Electrical'] = train['Electrical'].fillna('Missing')"
   ]
  },
  {
   "cell_type": "code",
   "execution_count": 13,
   "metadata": {},
   "outputs": [],
   "source": [
    "nominalcols = train.select_dtypes(include = ['O'])\n",
    "numericcols = train.select_dtypes(include = ['int64', 'float64'])\n"
   ]
  },
  {
   "cell_type": "code",
   "execution_count": 14,
   "metadata": {},
   "outputs": [],
   "source": [
    "nominalcols = nominalcols.apply(LabelEncoder().fit_transform)"
   ]
  },
  {
   "cell_type": "code",
   "execution_count": 15,
   "metadata": {},
   "outputs": [],
   "source": [
    "new_train = nominalcols.merge(numericcols, how = 'outer', left_index = True, right_index = True)"
   ]
  },
  {
   "cell_type": "code",
   "execution_count": 16,
   "metadata": {},
   "outputs": [
    {
     "data": {
      "text/html": [
       "<div>\n",
       "<style scoped>\n",
       "    .dataframe tbody tr th:only-of-type {\n",
       "        vertical-align: middle;\n",
       "    }\n",
       "\n",
       "    .dataframe tbody tr th {\n",
       "        vertical-align: top;\n",
       "    }\n",
       "\n",
       "    .dataframe thead th {\n",
       "        text-align: right;\n",
       "    }\n",
       "</style>\n",
       "<table border=\"1\" class=\"dataframe\">\n",
       "  <thead>\n",
       "    <tr style=\"text-align: right;\">\n",
       "      <th></th>\n",
       "      <th>MSZoning</th>\n",
       "      <th>Street</th>\n",
       "      <th>Alley</th>\n",
       "      <th>LotShape</th>\n",
       "      <th>LandContour</th>\n",
       "      <th>Utilities</th>\n",
       "      <th>LotConfig</th>\n",
       "      <th>LandSlope</th>\n",
       "      <th>Neighborhood</th>\n",
       "      <th>Condition1</th>\n",
       "      <th>...</th>\n",
       "      <th>GarageArea</th>\n",
       "      <th>WoodDeckSF</th>\n",
       "      <th>OpenPorchSF</th>\n",
       "      <th>EnclosedPorch</th>\n",
       "      <th>3SsnPorch</th>\n",
       "      <th>ScreenPorch</th>\n",
       "      <th>PoolArea</th>\n",
       "      <th>MiscVal</th>\n",
       "      <th>MoSold</th>\n",
       "      <th>YrSold</th>\n",
       "    </tr>\n",
       "    <tr>\n",
       "      <th>Id</th>\n",
       "      <th></th>\n",
       "      <th></th>\n",
       "      <th></th>\n",
       "      <th></th>\n",
       "      <th></th>\n",
       "      <th></th>\n",
       "      <th></th>\n",
       "      <th></th>\n",
       "      <th></th>\n",
       "      <th></th>\n",
       "      <th></th>\n",
       "      <th></th>\n",
       "      <th></th>\n",
       "      <th></th>\n",
       "      <th></th>\n",
       "      <th></th>\n",
       "      <th></th>\n",
       "      <th></th>\n",
       "      <th></th>\n",
       "      <th></th>\n",
       "      <th></th>\n",
       "    </tr>\n",
       "  </thead>\n",
       "  <tbody>\n",
       "    <tr>\n",
       "      <th>1</th>\n",
       "      <td>3</td>\n",
       "      <td>1</td>\n",
       "      <td>1</td>\n",
       "      <td>3</td>\n",
       "      <td>3</td>\n",
       "      <td>0</td>\n",
       "      <td>4</td>\n",
       "      <td>0</td>\n",
       "      <td>5</td>\n",
       "      <td>2</td>\n",
       "      <td>...</td>\n",
       "      <td>548</td>\n",
       "      <td>0</td>\n",
       "      <td>61</td>\n",
       "      <td>0</td>\n",
       "      <td>0</td>\n",
       "      <td>0</td>\n",
       "      <td>0</td>\n",
       "      <td>0</td>\n",
       "      <td>2</td>\n",
       "      <td>2008</td>\n",
       "    </tr>\n",
       "    <tr>\n",
       "      <th>2</th>\n",
       "      <td>3</td>\n",
       "      <td>1</td>\n",
       "      <td>1</td>\n",
       "      <td>3</td>\n",
       "      <td>3</td>\n",
       "      <td>0</td>\n",
       "      <td>2</td>\n",
       "      <td>0</td>\n",
       "      <td>24</td>\n",
       "      <td>1</td>\n",
       "      <td>...</td>\n",
       "      <td>460</td>\n",
       "      <td>298</td>\n",
       "      <td>0</td>\n",
       "      <td>0</td>\n",
       "      <td>0</td>\n",
       "      <td>0</td>\n",
       "      <td>0</td>\n",
       "      <td>0</td>\n",
       "      <td>5</td>\n",
       "      <td>2007</td>\n",
       "    </tr>\n",
       "    <tr>\n",
       "      <th>3</th>\n",
       "      <td>3</td>\n",
       "      <td>1</td>\n",
       "      <td>1</td>\n",
       "      <td>0</td>\n",
       "      <td>3</td>\n",
       "      <td>0</td>\n",
       "      <td>4</td>\n",
       "      <td>0</td>\n",
       "      <td>5</td>\n",
       "      <td>2</td>\n",
       "      <td>...</td>\n",
       "      <td>608</td>\n",
       "      <td>0</td>\n",
       "      <td>42</td>\n",
       "      <td>0</td>\n",
       "      <td>0</td>\n",
       "      <td>0</td>\n",
       "      <td>0</td>\n",
       "      <td>0</td>\n",
       "      <td>9</td>\n",
       "      <td>2008</td>\n",
       "    </tr>\n",
       "    <tr>\n",
       "      <th>4</th>\n",
       "      <td>3</td>\n",
       "      <td>1</td>\n",
       "      <td>1</td>\n",
       "      <td>0</td>\n",
       "      <td>3</td>\n",
       "      <td>0</td>\n",
       "      <td>0</td>\n",
       "      <td>0</td>\n",
       "      <td>6</td>\n",
       "      <td>2</td>\n",
       "      <td>...</td>\n",
       "      <td>642</td>\n",
       "      <td>0</td>\n",
       "      <td>35</td>\n",
       "      <td>272</td>\n",
       "      <td>0</td>\n",
       "      <td>0</td>\n",
       "      <td>0</td>\n",
       "      <td>0</td>\n",
       "      <td>2</td>\n",
       "      <td>2006</td>\n",
       "    </tr>\n",
       "    <tr>\n",
       "      <th>5</th>\n",
       "      <td>3</td>\n",
       "      <td>1</td>\n",
       "      <td>1</td>\n",
       "      <td>0</td>\n",
       "      <td>3</td>\n",
       "      <td>0</td>\n",
       "      <td>2</td>\n",
       "      <td>0</td>\n",
       "      <td>15</td>\n",
       "      <td>2</td>\n",
       "      <td>...</td>\n",
       "      <td>836</td>\n",
       "      <td>192</td>\n",
       "      <td>84</td>\n",
       "      <td>0</td>\n",
       "      <td>0</td>\n",
       "      <td>0</td>\n",
       "      <td>0</td>\n",
       "      <td>0</td>\n",
       "      <td>12</td>\n",
       "      <td>2008</td>\n",
       "    </tr>\n",
       "    <tr>\n",
       "      <th>...</th>\n",
       "      <td>...</td>\n",
       "      <td>...</td>\n",
       "      <td>...</td>\n",
       "      <td>...</td>\n",
       "      <td>...</td>\n",
       "      <td>...</td>\n",
       "      <td>...</td>\n",
       "      <td>...</td>\n",
       "      <td>...</td>\n",
       "      <td>...</td>\n",
       "      <td>...</td>\n",
       "      <td>...</td>\n",
       "      <td>...</td>\n",
       "      <td>...</td>\n",
       "      <td>...</td>\n",
       "      <td>...</td>\n",
       "      <td>...</td>\n",
       "      <td>...</td>\n",
       "      <td>...</td>\n",
       "      <td>...</td>\n",
       "      <td>...</td>\n",
       "    </tr>\n",
       "    <tr>\n",
       "      <th>1456</th>\n",
       "      <td>3</td>\n",
       "      <td>1</td>\n",
       "      <td>1</td>\n",
       "      <td>3</td>\n",
       "      <td>3</td>\n",
       "      <td>0</td>\n",
       "      <td>4</td>\n",
       "      <td>0</td>\n",
       "      <td>8</td>\n",
       "      <td>2</td>\n",
       "      <td>...</td>\n",
       "      <td>460</td>\n",
       "      <td>0</td>\n",
       "      <td>40</td>\n",
       "      <td>0</td>\n",
       "      <td>0</td>\n",
       "      <td>0</td>\n",
       "      <td>0</td>\n",
       "      <td>0</td>\n",
       "      <td>8</td>\n",
       "      <td>2007</td>\n",
       "    </tr>\n",
       "    <tr>\n",
       "      <th>1457</th>\n",
       "      <td>3</td>\n",
       "      <td>1</td>\n",
       "      <td>1</td>\n",
       "      <td>3</td>\n",
       "      <td>3</td>\n",
       "      <td>0</td>\n",
       "      <td>4</td>\n",
       "      <td>0</td>\n",
       "      <td>14</td>\n",
       "      <td>2</td>\n",
       "      <td>...</td>\n",
       "      <td>500</td>\n",
       "      <td>349</td>\n",
       "      <td>0</td>\n",
       "      <td>0</td>\n",
       "      <td>0</td>\n",
       "      <td>0</td>\n",
       "      <td>0</td>\n",
       "      <td>0</td>\n",
       "      <td>2</td>\n",
       "      <td>2010</td>\n",
       "    </tr>\n",
       "    <tr>\n",
       "      <th>1458</th>\n",
       "      <td>3</td>\n",
       "      <td>1</td>\n",
       "      <td>1</td>\n",
       "      <td>3</td>\n",
       "      <td>3</td>\n",
       "      <td>0</td>\n",
       "      <td>4</td>\n",
       "      <td>0</td>\n",
       "      <td>6</td>\n",
       "      <td>2</td>\n",
       "      <td>...</td>\n",
       "      <td>252</td>\n",
       "      <td>0</td>\n",
       "      <td>60</td>\n",
       "      <td>0</td>\n",
       "      <td>0</td>\n",
       "      <td>0</td>\n",
       "      <td>0</td>\n",
       "      <td>2500</td>\n",
       "      <td>5</td>\n",
       "      <td>2010</td>\n",
       "    </tr>\n",
       "    <tr>\n",
       "      <th>1459</th>\n",
       "      <td>3</td>\n",
       "      <td>1</td>\n",
       "      <td>1</td>\n",
       "      <td>3</td>\n",
       "      <td>3</td>\n",
       "      <td>0</td>\n",
       "      <td>4</td>\n",
       "      <td>0</td>\n",
       "      <td>12</td>\n",
       "      <td>2</td>\n",
       "      <td>...</td>\n",
       "      <td>240</td>\n",
       "      <td>366</td>\n",
       "      <td>0</td>\n",
       "      <td>112</td>\n",
       "      <td>0</td>\n",
       "      <td>0</td>\n",
       "      <td>0</td>\n",
       "      <td>0</td>\n",
       "      <td>4</td>\n",
       "      <td>2010</td>\n",
       "    </tr>\n",
       "    <tr>\n",
       "      <th>1460</th>\n",
       "      <td>3</td>\n",
       "      <td>1</td>\n",
       "      <td>1</td>\n",
       "      <td>3</td>\n",
       "      <td>3</td>\n",
       "      <td>0</td>\n",
       "      <td>4</td>\n",
       "      <td>0</td>\n",
       "      <td>7</td>\n",
       "      <td>2</td>\n",
       "      <td>...</td>\n",
       "      <td>276</td>\n",
       "      <td>736</td>\n",
       "      <td>68</td>\n",
       "      <td>0</td>\n",
       "      <td>0</td>\n",
       "      <td>0</td>\n",
       "      <td>0</td>\n",
       "      <td>0</td>\n",
       "      <td>6</td>\n",
       "      <td>2008</td>\n",
       "    </tr>\n",
       "  </tbody>\n",
       "</table>\n",
       "<p>1460 rows × 79 columns</p>\n",
       "</div>"
      ],
      "text/plain": [
       "      MSZoning  Street  Alley  LotShape  LandContour  Utilities  LotConfig  \\\n",
       "Id                                                                           \n",
       "1            3       1      1         3            3          0          4   \n",
       "2            3       1      1         3            3          0          2   \n",
       "3            3       1      1         0            3          0          4   \n",
       "4            3       1      1         0            3          0          0   \n",
       "5            3       1      1         0            3          0          2   \n",
       "...        ...     ...    ...       ...          ...        ...        ...   \n",
       "1456         3       1      1         3            3          0          4   \n",
       "1457         3       1      1         3            3          0          4   \n",
       "1458         3       1      1         3            3          0          4   \n",
       "1459         3       1      1         3            3          0          4   \n",
       "1460         3       1      1         3            3          0          4   \n",
       "\n",
       "      LandSlope  Neighborhood  Condition1  ...  GarageArea  WoodDeckSF  \\\n",
       "Id                                         ...                           \n",
       "1             0             5           2  ...         548           0   \n",
       "2             0            24           1  ...         460         298   \n",
       "3             0             5           2  ...         608           0   \n",
       "4             0             6           2  ...         642           0   \n",
       "5             0            15           2  ...         836         192   \n",
       "...         ...           ...         ...  ...         ...         ...   \n",
       "1456          0             8           2  ...         460           0   \n",
       "1457          0            14           2  ...         500         349   \n",
       "1458          0             6           2  ...         252           0   \n",
       "1459          0            12           2  ...         240         366   \n",
       "1460          0             7           2  ...         276         736   \n",
       "\n",
       "      OpenPorchSF  EnclosedPorch  3SsnPorch  ScreenPorch  PoolArea  MiscVal  \\\n",
       "Id                                                                            \n",
       "1              61              0          0            0         0        0   \n",
       "2               0              0          0            0         0        0   \n",
       "3              42              0          0            0         0        0   \n",
       "4              35            272          0            0         0        0   \n",
       "5              84              0          0            0         0        0   \n",
       "...           ...            ...        ...          ...       ...      ...   \n",
       "1456           40              0          0            0         0        0   \n",
       "1457            0              0          0            0         0        0   \n",
       "1458           60              0          0            0         0     2500   \n",
       "1459            0            112          0            0         0        0   \n",
       "1460           68              0          0            0         0        0   \n",
       "\n",
       "      MoSold  YrSold  \n",
       "Id                    \n",
       "1          2    2008  \n",
       "2          5    2007  \n",
       "3          9    2008  \n",
       "4          2    2006  \n",
       "5         12    2008  \n",
       "...      ...     ...  \n",
       "1456       8    2007  \n",
       "1457       2    2010  \n",
       "1458       5    2010  \n",
       "1459       4    2010  \n",
       "1460       6    2008  \n",
       "\n",
       "[1460 rows x 79 columns]"
      ]
     },
     "execution_count": 16,
     "metadata": {},
     "output_type": "execute_result"
    }
   ],
   "source": [
    "house_data = new_train.loc[:, new_train.columns != 'SalePrice']\n",
    "house_target = new_train['SalePrice']\n",
    "house_data"
   ]
  },
  {
   "cell_type": "code",
   "execution_count": 17,
   "metadata": {},
   "outputs": [],
   "source": [
    "X_train, X_test, y_train, y_test = train_test_split(house_data, house_target, test_size=0.2, random_state=0)"
   ]
  },
  {
   "cell_type": "code",
   "execution_count": 18,
   "metadata": {},
   "outputs": [],
   "source": [
    "###Random Forest Approach:"
   ]
  },
  {
   "cell_type": "code",
   "execution_count": 19,
   "metadata": {},
   "outputs": [],
   "source": [
    "np.random.seed(0)\n",
    "from sklearn import ensemble\n",
    "randomForest = ensemble.RandomForestClassifier()\n"
   ]
  },
  {
   "cell_type": "code",
   "execution_count": 20,
   "metadata": {},
   "outputs": [
    {
     "data": {
      "text/plain": [
       "RandomForestClassifier(bootstrap=True, ccp_alpha=0.0, class_weight=None,\n",
       "                       criterion='gini', max_depth=None, max_features='auto',\n",
       "                       max_leaf_nodes=None, max_samples=None,\n",
       "                       min_impurity_decrease=0.0, min_impurity_split=None,\n",
       "                       min_samples_leaf=1, min_samples_split=2,\n",
       "                       min_weight_fraction_leaf=0.0, n_estimators=100,\n",
       "                       n_jobs=None, oob_score=False, random_state=0, verbose=0,\n",
       "                       warm_start=False)"
      ]
     },
     "execution_count": 20,
     "metadata": {},
     "output_type": "execute_result"
    }
   ],
   "source": [
    "randomForest.set_params(random_state=0)"
   ]
  },
  {
   "cell_type": "code",
   "execution_count": 21,
   "metadata": {},
   "outputs": [],
   "source": [
    "grid_para_forest = {\n",
    "    'criterion': ['gini', 'entropy'],\n",
    "    'max_depth': range(1, 31),\n",
    "    'n_estimators': range(20, 120, 10)\n",
    "}"
   ]
  },
  {
   "cell_type": "code",
   "execution_count": 22,
   "metadata": {},
   "outputs": [],
   "source": [
    "skf = StratifiedKFold(n_splits = 5, shuffle = True, random_state = 3)\n",
    "\n",
    "grid_search_forest = ms.GridSearchCV(randomForest, grid_para_forest, scoring='accuracy', cv=skf, n_jobs=-1).fit(X_train, y_train)"
   ]
  },
  {
   "cell_type": "code",
   "execution_count": 23,
   "metadata": {},
   "outputs": [
    {
     "data": {
      "text/plain": [
       "{'criterion': 'entropy', 'max_depth': 9, 'n_estimators': 50}"
      ]
     },
     "execution_count": 23,
     "metadata": {},
     "output_type": "execute_result"
    }
   ],
   "source": [
    "grid_search_forest.best_params_"
   ]
  },
  {
   "cell_type": "code",
   "execution_count": 24,
   "metadata": {},
   "outputs": [
    {
     "data": {
      "text/plain": [
       "0.7748285095924581"
      ]
     },
     "execution_count": 24,
     "metadata": {},
     "output_type": "execute_result"
    }
   ],
   "source": [
    "grid_search_forest.best_score_"
   ]
  },
  {
   "cell_type": "code",
   "execution_count": 25,
   "metadata": {},
   "outputs": [
    {
     "name": "stdout",
     "output_type": "stream",
     "text": [
      "The training error is: 0.01627\n",
      "The test     error is: 0.21233\n"
     ]
    }
   ],
   "source": [
    "print(\"The training error is: %.5f\" % (1 - grid_search_forest.best_estimator_.score(X_train, y_train)))\n",
    "print(\"The test     error is: %.5f\" % (1 - grid_search_forest.best_estimator_.score(X_test, y_test)))"
   ]
  },
  {
   "cell_type": "code",
   "execution_count": 91,
   "metadata": {},
   "outputs": [
    {
     "data": {
      "text/plain": [
       "array([[[200,  17],\n",
       "        [ 11,  64]],\n",
       "\n",
       "       [[205,  17],\n",
       "        [ 21,  49]],\n",
       "\n",
       "       [[195,  14],\n",
       "        [ 21,  62]],\n",
       "\n",
       "       [[214,  14],\n",
       "        [  9,  55]]])"
      ]
     },
     "execution_count": 91,
     "metadata": {},
     "output_type": "execute_result"
    }
   ],
   "source": [
    "from sklearn.metrics import multilabel_confusion_matrix as mcm, classification_report \n",
    "\n",
    "mcm(y_test, grid_search_forest.best_estimator_.predict(X_test))"
   ]
  },
  {
   "cell_type": "code",
   "execution_count": 92,
   "metadata": {},
   "outputs": [
    {
     "name": "stdout",
     "output_type": "stream",
     "text": [
      "              precision    recall  f1-score   support\n",
      "\n",
      "           0       0.79      0.85      0.82        75\n",
      "           1       0.74      0.70      0.72        70\n",
      "           2       0.82      0.75      0.78        83\n",
      "           3       0.80      0.86      0.83        64\n",
      "\n",
      "    accuracy                           0.79       292\n",
      "   macro avg       0.79      0.79      0.79       292\n",
      "weighted avg       0.79      0.79      0.79       292\n",
      "\n"
     ]
    }
   ],
   "source": [
    "print(classification_report(y_test, grid_search_forest.best_estimator_.predict(X_test)))"
   ]
  },
  {
   "cell_type": "code",
   "execution_count": 27,
   "metadata": {},
   "outputs": [
    {
     "data": {
      "text/plain": [
       "[b'GrLivArea', b'OverallQua', b'YearBuilt', b'1stFlrSF', b'GarageArea']"
      ]
     },
     "execution_count": 27,
     "metadata": {},
     "output_type": "execute_result"
    }
   ],
   "source": [
    "feature_importance = list(zip(house_data.columns, grid_search_forest.best_estimator_.feature_importances_))\n",
    "dtype = [('feature', 'S10'), ('importance', 'float')]\n",
    "feature_importance = np.array(feature_importance, dtype=dtype)\n",
    "feature_sort = np.sort(feature_importance, order='importance')[::-1]\n",
    "[i for (i, j) in feature_sort[0:5]]\n",
    "\n"
   ]
  },
  {
   "cell_type": "code",
   "execution_count": 28,
   "metadata": {},
   "outputs": [
    {
     "data": {
      "text/plain": [
       "Text(0.5, 1.0, 'Feature importances')"
      ]
     },
     "execution_count": 28,
     "metadata": {},
     "output_type": "execute_result"
    },
    {
     "data": {
      "image/png": "[encoded data removed]",
      "text/plain": [
       "<Figure size 432x288 with 1 Axes>"
      ]
     },
     "metadata": {
      "needs_background": "light"
     },
     "output_type": "display_data"
    }
   ],
   "source": [
    "featureNames, featureScores = zip(*list(feature_sort[:10]))\n",
    "\n",
    "plt.barh(range(len(featureScores)), featureScores, tick_label=featureNames)\n",
    "plt.title('Feature importances')"
   ]
  },
  {
   "cell_type": "code",
   "execution_count": 29,
   "metadata": {},
   "outputs": [],
   "source": [
    "###GBM Approach:"
   ]
  },
  {
   "cell_type": "code",
   "execution_count": 30,
   "metadata": {},
   "outputs": [],
   "source": [
    "from sklearn.ensemble import GradientBoostingClassifier\n",
    "\n",
    "gbm = GradientBoostingClassifier(random_state = 3)"
   ]
  },
  {
   "cell_type": "code",
   "execution_count": 31,
   "metadata": {},
   "outputs": [],
   "source": [
    "skf = StratifiedKFold(n_splits = 5, shuffle = True, random_state = 6)\n",
    "\n",
    "loss = ['deviance', 'exponential']\n",
    "n_estimators = [100, 150, 200, 250, 300]\n",
    "max_depth = [2, 3, 5, 10, 15]\n",
    "min_samples_leaf = [1, 2, 4, 6, 8]\n",
    "min_samples_split = [2, 4, 6, 10]\n",
    "max_features = ['auto', 'sqrt', 'log2', None]\n",
    "hyper_grid = {'loss': loss, \n",
    "              'n_estimators': n_estimators, \n",
    "              'max_depth': max_depth, \n",
    "              'min_samples_leaf': min_samples_leaf, \n",
    "              'min_samples_split': min_samples_split, \n",
    "              'max_features': max_features}\n",
    "\n",
    "random_cv = ms.RandomizedSearchCV(estimator = gbm, param_distributions = hyper_grid, \n",
    "                                  cv = skf, n_iter = 25, scoring = 'neg_mean_absolute_error', \n",
    "                                  n_jobs = -1, random_state = 6).fit(X_train, y_train)"
   ]
  },
  {
   "cell_type": "code",
   "execution_count": 32,
   "metadata": {},
   "outputs": [
    {
     "data": {
      "text/plain": [
       "GradientBoostingClassifier(ccp_alpha=0.0, criterion='friedman_mse', init=None,\n",
       "                           learning_rate=0.1, loss='deviance', max_depth=10,\n",
       "                           max_features='sqrt', max_leaf_nodes=None,\n",
       "                           min_impurity_decrease=0.0, min_impurity_split=None,\n",
       "                           min_samples_leaf=1, min_samples_split=4,\n",
       "                           min_weight_fraction_leaf=0.0, n_estimators=100,\n",
       "                           n_iter_no_change=None, presort='deprecated',\n",
       "                           random_state=3, subsample=1.0, tol=0.0001,\n",
       "                           validation_fraction=0.1, verbose=0,\n",
       "                           warm_start=False)"
      ]
     },
     "execution_count": 32,
     "metadata": {},
     "output_type": "execute_result"
    }
   ],
   "source": [
    "random_cv.best_estimator_"
   ]
  },
  {
   "cell_type": "code",
   "execution_count": 33,
   "metadata": {},
   "outputs": [
    {
     "name": "stdout",
     "output_type": "stream",
     "text": [
      "The accuracy is: 1.00000\n",
      "The accuracy  is: 0.78425\n"
     ]
    }
   ],
   "source": [
    "print(\"The accuracy is: %.5f\" % (random_cv.best_estimator_.score(X_train, y_train)))\n",
    "print(\"The accuracy  is: %.5f\" % (random_cv.best_estimator_.score(X_test, y_test)))"
   ]
  },
  {
   "cell_type": "code",
   "execution_count": 34,
   "metadata": {},
   "outputs": [],
   "source": [
    "gbm.set_params(learning_rate = 0.1, subsample=0.9, loss = 'deviance', min_samples_leaf = 1, max_features = 'sqrt') \n",
    "\n",
    "n_estimators = [95, 100, 105, 110, 115, 120]\n",
    "max_depth = [14, 15, 16, 17, 18, 19]\n",
    "min_samples_split = [2, 3, 4, 5, 6]\n",
    "hyper_grid = {'n_estimators': n_estimators, \n",
    "              'max_depth': max_depth,  \n",
    "              'min_samples_split': min_samples_split, \n",
    "              }\n",
    "\n",
    "random_cv1 = ms.RandomizedSearchCV(gbm, hyper_grid, cv = skf, scoring = 'accuracy', n_jobs = -1, refit = True).fit(X_train, y_train)"
   ]
  },
  {
   "cell_type": "code",
   "execution_count": 35,
   "metadata": {},
   "outputs": [
    {
     "data": {
      "text/plain": [
       "GradientBoostingClassifier(ccp_alpha=0.0, criterion='friedman_mse', init=None,\n",
       "                           learning_rate=0.1, loss='deviance', max_depth=18,\n",
       "                           max_features='sqrt', max_leaf_nodes=None,\n",
       "                           min_impurity_decrease=0.0, min_impurity_split=None,\n",
       "                           min_samples_leaf=1, min_samples_split=4,\n",
       "                           min_weight_fraction_leaf=0.0, n_estimators=115,\n",
       "                           n_iter_no_change=None, presort='deprecated',\n",
       "                           random_state=3, subsample=0.9, tol=0.0001,\n",
       "                           validation_fraction=0.1, verbose=0,\n",
       "                           warm_start=False)"
      ]
     },
     "execution_count": 35,
     "metadata": {},
     "output_type": "execute_result"
    }
   ],
   "source": [
    "random_cv1.best_estimator_"
   ]
  },
  {
   "cell_type": "code",
   "execution_count": 36,
   "metadata": {},
   "outputs": [
    {
     "data": {
      "text/plain": [
       "0.7534243057848208"
      ]
     },
     "execution_count": 36,
     "metadata": {},
     "output_type": "execute_result"
    }
   ],
   "source": [
    "random_cv1.best_score_"
   ]
  },
  {
   "cell_type": "code",
   "execution_count": 37,
   "metadata": {},
   "outputs": [
    {
     "name": "stdout",
     "output_type": "stream",
     "text": [
      "The accuracy is: 1.00000\n",
      "The accuracy  is: 0.79110\n"
     ]
    }
   ],
   "source": [
    "print(\"The accuracy is: %.5f\" % (random_cv1.best_estimator_.score(X_train, y_train)))\n",
    "print(\"The accuracy  is: %.5f\" % (random_cv1.best_estimator_.score(X_test, y_test)))"
   ]
  },
  {
   "cell_type": "code",
   "execution_count": 38,
   "metadata": {},
   "outputs": [
    {
     "data": {
      "text/plain": [
       "array([[[198,  19],\n",
       "        [  9,  66]],\n",
       "\n",
       "       [[207,  15],\n",
       "        [ 24,  46]],\n",
       "\n",
       "       [[199,  10],\n",
       "        [ 24,  59]],\n",
       "\n",
       "       [[211,  17],\n",
       "        [  4,  60]]])"
      ]
     },
     "execution_count": 38,
     "metadata": {},
     "output_type": "execute_result"
    }
   ],
   "source": [
    "mcm(y_test, random_cv1.best_estimator_.predict(X_test))"
   ]
  },
  {
   "cell_type": "code",
   "execution_count": 93,
   "metadata": {},
   "outputs": [
    {
     "name": "stdout",
     "output_type": "stream",
     "text": [
      "              precision    recall  f1-score   support\n",
      "\n",
      "           0       0.78      0.88      0.82        75\n",
      "           1       0.75      0.66      0.70        70\n",
      "           2       0.86      0.71      0.78        83\n",
      "           3       0.78      0.94      0.85        64\n",
      "\n",
      "    accuracy                           0.79       292\n",
      "   macro avg       0.79      0.80      0.79       292\n",
      "weighted avg       0.79      0.79      0.79       292\n",
      "\n"
     ]
    }
   ],
   "source": [
    "print(classification_report(y_test, random_cv1.best_estimator_.predict(X_test)))"
   ]
  },
  {
   "cell_type": "code",
   "execution_count": 39,
   "metadata": {},
   "outputs": [
    {
     "data": {
      "text/plain": [
       "[b'OverallQua', b'GrLivArea', b'1stFlrSF', b'GarageArea', b'TotalBsmtS']"
      ]
     },
     "execution_count": 39,
     "metadata": {},
     "output_type": "execute_result"
    }
   ],
   "source": [
    "feature_importance = list(zip(house_data.columns, random_cv1.best_estimator_.feature_importances_))\n",
    "dtype = [('feature', 'S10'), ('importance', 'float')]\n",
    "feature_importance = np.array(feature_importance, dtype=dtype)\n",
    "feature_sort = np.sort(feature_importance, order='importance')[::-1]\n",
    "[i for (i, j) in feature_sort[0:5]]"
   ]
  },
  {
   "cell_type": "code",
   "execution_count": 40,
   "metadata": {},
   "outputs": [
    {
     "data": {
      "text/plain": [
       "Text(0.5, 1.0, 'Feature importances')"
      ]
     },
     "execution_count": 40,
     "metadata": {},
     "output_type": "execute_result"
    },
    {
     "data": {
      "image/png": "[encoded data removed]",
      "text/plain": [
       "<Figure size 432x288 with 1 Axes>"
      ]
     },
     "metadata": {
      "needs_background": "light"
     },
     "output_type": "display_data"
    }
   ],
   "source": [
    "featureNames, featureScores = zip(*list(feature_sort[:10]))\n",
    "\n",
    "plt.barh(range(len(featureScores)), featureScores, tick_label=featureNames)\n",
    "plt.title('Feature importances')"
   ]
  },
  {
   "cell_type": "code",
   "execution_count": 41,
   "metadata": {},
   "outputs": [],
   "source": [
    "###SVM Approach:"
   ]
  },
  {
   "cell_type": "code",
   "execution_count": 42,
   "metadata": {},
   "outputs": [],
   "source": [
    "from sklearn import svm\n",
    "from sklearn.preprocessing import MinMaxScaler\n",
    "svm_model = svm.SVC(kernel = 'poly', degree = 1, gamma = 'auto', random_state = 50)"
   ]
  },
  {
   "cell_type": "code",
   "execution_count": 63,
   "metadata": {},
   "outputs": [],
   "source": [
    "scaler = MinMaxScaler(feature_range = (0,1))\n",
    "scaler.fit(X_train)\n",
    "sX_train = scaler.transform(X_train)\n",
    "sX_test = scaler.transform(X_test)"
   ]
  },
  {
   "cell_type": "code",
   "execution_count": 64,
   "metadata": {},
   "outputs": [],
   "source": [
    "grid_para_svm = [\n",
    "    {'C': [1, 10, 100, 1000],\n",
    "    'kernel': ['poly'],\n",
    "    'degree': [1, 2, 3]},\n",
    "    {'C': [1, 10, 100, 1000],\n",
    "    'kernel': ['rbf'],\n",
    "    'gamma': [0.1, 0.01, 0.001, 0.0001]},\n",
    "]"
   ]
  },
  {
   "cell_type": "code",
   "execution_count": 65,
   "metadata": {},
   "outputs": [],
   "source": [
    "grid_search_svm = ms.GridSearchCV(svm_model, grid_para_svm, scoring = 'accuracy', cv = skf, n_jobs = -1).fit(sX_train, y_train)"
   ]
  },
  {
   "cell_type": "code",
   "execution_count": 66,
   "metadata": {},
   "outputs": [
    {
     "data": {
      "text/plain": [
       "{'C': 1000, 'gamma': 0.001, 'kernel': 'rbf'}"
      ]
     },
     "execution_count": 66,
     "metadata": {},
     "output_type": "execute_result"
    }
   ],
   "source": [
    "grid_search_svm.best_params_"
   ]
  },
  {
   "cell_type": "code",
   "execution_count": 67,
   "metadata": {},
   "outputs": [
    {
     "data": {
      "text/plain": [
       "0.7774182898646418"
      ]
     },
     "execution_count": 67,
     "metadata": {},
     "output_type": "execute_result"
    }
   ],
   "source": [
    "grid_search_svm.best_score_"
   ]
  },
  {
   "cell_type": "code",
   "execution_count": 68,
   "metadata": {},
   "outputs": [
    {
     "name": "stdout",
     "output_type": "stream",
     "text": [
      "The training accuracy is 0.858\n",
      "The test accuracy     is 0.795\n"
     ]
    }
   ],
   "source": [
    "print('The training accuracy is %.3f' %(grid_search_svm.best_estimator_.score(sX_train, y_train)))\n",
    "print('The test accuracy     is %.3f' %(grid_search_svm.best_estimator_.score(sX_test, y_test)))"
   ]
  },
  {
   "cell_type": "code",
   "execution_count": 69,
   "metadata": {},
   "outputs": [
    {
     "data": {
      "text/plain": [
       "array([[[203,  14],\n",
       "        [ 15,  60]],\n",
       "\n",
       "       [[197,  25],\n",
       "        [ 20,  50]],\n",
       "\n",
       "       [[198,  11],\n",
       "        [ 19,  64]],\n",
       "\n",
       "       [[218,  10],\n",
       "        [  6,  58]]])"
      ]
     },
     "execution_count": 69,
     "metadata": {},
     "output_type": "execute_result"
    }
   ],
   "source": [
    "mcm(y_test, grid_search_svm.best_estimator_.predict(sX_test))"
   ]
  },
  {
   "cell_type": "code",
   "execution_count": 95,
   "metadata": {},
   "outputs": [
    {
     "name": "stdout",
     "output_type": "stream",
     "text": [
      "              precision    recall  f1-score   support\n",
      "\n",
      "           0       0.81      0.80      0.81        75\n",
      "           1       0.67      0.71      0.69        70\n",
      "           2       0.85      0.77      0.81        83\n",
      "           3       0.85      0.91      0.88        64\n",
      "\n",
      "    accuracy                           0.79       292\n",
      "   macro avg       0.80      0.80      0.80       292\n",
      "weighted avg       0.80      0.79      0.80       292\n",
      "\n"
     ]
    }
   ],
   "source": [
    "print(classification_report(y_test, grid_search_svm.best_estimator_.predict(sX_test)))"
   ]
  },
  {
   "cell_type": "code",
   "execution_count": 50,
   "metadata": {},
   "outputs": [],
   "source": [
    "###PCA Approach"
   ]
  },
  {
   "cell_type": "code",
   "execution_count": 70,
   "metadata": {},
   "outputs": [],
   "source": [
    "from sklearn.decomposition import PCA\n",
    "pca = PCA()"
   ]
  },
  {
   "cell_type": "code",
   "execution_count": 76,
   "metadata": {},
   "outputs": [
    {
     "data": {
      "text/plain": [
       "array([[ 9.12122765e-01, -4.54917253e-01, -4.76462267e-01, ...,\n",
       "         2.40112368e-03, -1.60312724e-16, -1.42371758e-16],\n",
       "       [-1.03200904e+00, -4.61946220e-01,  1.22170384e-01, ...,\n",
       "         5.11998121e-04, -2.22826245e-16, -5.42178999e-17],\n",
       "       [-8.10103209e-02,  2.75254288e-01,  1.43583757e-01, ...,\n",
       "        -5.88799140e-03, -4.69208381e-17,  1.05376660e-16],\n",
       "       ...,\n",
       "       [-5.90537130e-01, -2.17589421e-01, -4.14861489e-01, ...,\n",
       "         5.34919896e-04,  2.74685567e-17, -7.16667480e-17],\n",
       "       [ 7.64145563e-01, -6.00497031e-01, -2.15310602e-01, ...,\n",
       "         6.46745271e-03,  4.60093116e-17, -1.18549612e-16],\n",
       "       [ 6.43039753e-01, -4.95714816e-02,  5.42499963e-01, ...,\n",
       "        -9.09542101e-04,  1.03500261e-16, -2.54327468e-17]])"
      ]
     },
     "execution_count": 76,
     "metadata": {},
     "output_type": "execute_result"
    }
   ],
   "source": [
    "pca.set_params(n_components=None)\n",
    "pca.fit(sX_train)\n",
    "pca.transform(sX_train)"
   ]
  },
  {
   "cell_type": "code",
   "execution_count": 77,
   "metadata": {},
   "outputs": [
    {
     "data": {
      "text/plain": [
       "array([1.56949429e-01, 7.81394530e-02, 6.15801631e-02, 4.63774892e-02,\n",
       "       4.16023928e-02, 3.79283132e-02, 3.35677490e-02, 3.19811931e-02,\n",
       "       3.14393897e-02, 2.96209667e-02, 2.48093259e-02, 2.22199614e-02,\n",
       "       2.11686075e-02, 1.98335549e-02, 1.86716216e-02, 1.73985481e-02,\n",
       "       1.70037309e-02, 1.66253975e-02, 1.60518562e-02, 1.50815067e-02,\n",
       "       1.45074257e-02, 1.37628326e-02, 1.31735090e-02, 1.25737699e-02,\n",
       "       1.23147835e-02, 1.12696221e-02, 1.10597461e-02, 1.06524824e-02,\n",
       "       1.02354585e-02, 9.18893807e-03, 8.74664877e-03, 8.29832720e-03,\n",
       "       8.05657124e-03, 7.61241806e-03, 7.32464919e-03, 6.93745047e-03,\n",
       "       6.47527211e-03, 6.24278821e-03, 5.77115112e-03, 5.60443446e-03,\n",
       "       5.06757449e-03, 4.40447432e-03, 4.34398581e-03, 4.06395461e-03,\n",
       "       3.98281478e-03, 3.61119241e-03, 3.12920814e-03, 3.02140494e-03,\n",
       "       2.92605538e-03, 2.84856377e-03, 2.68399977e-03, 2.62727376e-03,\n",
       "       2.53798755e-03, 2.45198037e-03, 2.27343686e-03, 2.18802150e-03,\n",
       "       1.94419669e-03, 1.89724974e-03, 1.86999163e-03, 1.83300235e-03,\n",
       "       1.77558300e-03, 1.44456409e-03, 1.14416704e-03, 1.01094081e-03,\n",
       "       9.25425087e-04, 8.85035114e-04, 8.57232545e-04, 7.56899597e-04,\n",
       "       7.24015637e-04, 6.71129128e-04, 6.00157931e-04, 5.16637509e-04,\n",
       "       3.92158814e-04, 3.24450884e-04, 2.02561072e-04, 1.46278206e-04,\n",
       "       5.74662671e-05, 3.09528172e-32, 1.08135321e-33])"
      ]
     },
     "execution_count": 77,
     "metadata": {},
     "output_type": "execute_result"
    }
   ],
   "source": [
    "pca.explained_variance_ratio_"
   ]
  },
  {
   "cell_type": "code",
   "execution_count": 78,
   "metadata": {},
   "outputs": [
    {
     "data": {
      "image/png": "[encoded data removed]",
      "text/plain": [
       "<Figure size 432x288 with 1 Axes>"
      ]
     },
     "metadata": {
      "needs_background": "light"
     },
     "output_type": "display_data"
    }
   ],
   "source": [
    "plt.scatter(range(1, 80), np.cumsum(pca.explained_variance_ratio_))\n",
    "plt.plot(range(1, 80), np.cumsum(pca.explained_variance_ratio_))\n",
    "plt.xlabel('Number of components')\n",
    "plt.ylabel('Cumulative percentage of variance')\n",
    "plt.xlim(0, 82)\n",
    "plt.show()"
   ]
  },
  {
   "cell_type": "code",
   "execution_count": 81,
   "metadata": {},
   "outputs": [
    {
     "name": "stdout",
     "output_type": "stream",
     "text": [
      "The training error is: 0.1807\n"
     ]
    }
   ],
   "source": [
    "import sklearn.linear_model as lm\n",
    "logit = lm.LogisticRegression(C=1e5, max_iter = 1500) \n",
    "pca.set_params(n_components=50)\n",
    "pca.fit(sX_train)\n",
    "sX_train_50 = pca.transform(sX_train)\n",
    "logit.fit(sX_train_50, y_train)\n",
    "print(\"The training error is: %.4f\" %(1 - logit.score(sX_train_50, y_train)))"
   ]
  },
  {
   "cell_type": "code",
   "execution_count": 85,
   "metadata": {},
   "outputs": [
    {
     "name": "stdout",
     "output_type": "stream",
     "text": [
      "The test error is: 0.2192\n"
     ]
    }
   ],
   "source": [
    "sX_test_logit = pca.transform(sX_test)\n",
    "print(\"The test error is: %.4f\" %(1-logit.score(sX_test_logit[:, :51], y_test)))"
   ]
  },
  {
   "cell_type": "code",
   "execution_count": 101,
   "metadata": {},
   "outputs": [
    {
     "data": {
      "text/plain": [
       "array([[[201,  16],\n",
       "        [ 12,  63]],\n",
       "\n",
       "       [[202,  20],\n",
       "        [ 23,  47]],\n",
       "\n",
       "       [[196,  13],\n",
       "        [ 23,  60]],\n",
       "\n",
       "       [[213,  15],\n",
       "        [  6,  58]]])"
      ]
     },
     "execution_count": 101,
     "metadata": {},
     "output_type": "execute_result"
    }
   ],
   "source": [
    "mcm(y_test, logit.predict(sX_test_logit[:, :51]))"
   ]
  },
  {
   "cell_type": "code",
   "execution_count": 103,
   "metadata": {},
   "outputs": [
    {
     "name": "stdout",
     "output_type": "stream",
     "text": [
      "              precision    recall  f1-score   support\n",
      "\n",
      "           0       0.80      0.84      0.82        75\n",
      "           1       0.70      0.67      0.69        70\n",
      "           2       0.82      0.72      0.77        83\n",
      "           3       0.79      0.91      0.85        64\n",
      "\n",
      "    accuracy                           0.78       292\n",
      "   macro avg       0.78      0.79      0.78       292\n",
      "weighted avg       0.78      0.78      0.78       292\n",
      "\n"
     ]
    }
   ],
   "source": [
    "print(classification_report(y_test, logit.predict(sX_test_logit[:, :51])))"
   ]
  }
 ],
 "metadata": {
  "kernelspec": {
   "display_name": "Python 3",
   "language": "python",
   "name": "python3"
  },
  "language_info": {
   "codemirror_mode": {
    "name": "ipython",
    "version": 3
   },
   "file_extension": ".py",
   "mimetype": "text/x-python",
   "name": "python",
   "nbconvert_exporter": "python",
   "pygments_lexer": "ipython3",
   "version": "3.7.6"
  }
 },
 "nbformat": 4,
 "nbformat_minor": 4
}
